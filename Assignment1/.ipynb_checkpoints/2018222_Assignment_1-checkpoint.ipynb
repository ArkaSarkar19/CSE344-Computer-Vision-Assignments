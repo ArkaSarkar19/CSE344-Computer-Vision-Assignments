{
 "cells": [
  {
   "cell_type": "code",
   "execution_count": 62,
   "metadata": {},
   "outputs": [],
   "source": [
    "import numpy as np\n",
    "import cv2\n",
    "import matplotlib.pyplot as plt\n",
    "from skimage import filters\n",
    "from collections import deque\n",
    "import copy"
   ]
  },
  {
   "cell_type": "code",
   "execution_count": 63,
   "metadata": {},
   "outputs": [
    {
     "data": {
      "image/png": "[encoded data removed]",
      "text/plain": [
       "<Figure size 432x288 with 1 Axes>"
      ]
     },
     "metadata": {
      "needs_background": "light"
     },
     "output_type": "display_data"
    },
    {
     "name": "stdout",
     "output_type": "stream",
     "text": [
      "(639, 960, 3)\n"
     ]
    }
   ],
   "source": [
    "image = cv2.imread(\"Project1.png\")\n",
    "plt.imshow(image)\n",
    "plt.show()\n",
    "print(image.shape)"
   ]
  },
  {
   "cell_type": "code",
   "execution_count": 64,
   "metadata": {},
   "outputs": [],
   "source": [
    "def get_components(image):\n",
    "    gray_img = np.mean(image,2)\n",
    "    val = filters.threshold_otsu(gray_img)\n",
    "    gray_img[gray_img >= val] = 1\n",
    "    gray_img[gray_img < val] = 0\n",
    "    \n",
    "    rows, cols = gray_img.shape[0], gray_img.shape[1]\n",
    "    visited = np.zeros((rows,cols))\n",
    "\n",
    "    answer = np.zeros((rows,cols))\n",
    "    centers = {}\n",
    "    c = 1\n",
    "    for i in range(rows):\n",
    "        for j in range(cols):\n",
    "\n",
    "            if(gray_img[i][j] == 0.0):\n",
    "                visited[i,j] = 1\n",
    "            elif(visited[i,j]):\n",
    "                continue\n",
    "            else:\n",
    "                stack = deque()\n",
    "                stack.append((i,j))\n",
    "                \n",
    "                centers[c] = []\n",
    "                \n",
    "                while(len(stack)!=0):\n",
    "                    curr = stack.pop()\n",
    "                    if(visited[curr[0],curr[1]] == 0):\n",
    "                        visited[curr[0],curr[1]] = 1\n",
    "                        m,n = curr[0],curr[1]\n",
    "                        answer[m,n] = c\n",
    "                        list_ = []\n",
    "                        for x in range(m-1, m+2):\n",
    "                            for y in range(n-1, n+2):\n",
    "                                if(x == m and y == n):\n",
    "                                    continue\n",
    "                                else:\n",
    "                                    if(x <0 or x > rows -1):\n",
    "                                        continue\n",
    "                                    if(y <0 or y > cols -1):\n",
    "                                        continue\n",
    "\n",
    "                                    if(gray_img[x,y] == 1.0):\n",
    "                                        centers[c].append([x,y])\n",
    "                                        stack.append((x,y))\n",
    "                c = c + 1\n",
    "\n",
    "\n",
    "    print(\"Number of connected components : \", np.amax(answer))\n",
    "    return np.amax(answer), centers\n"
   ]
  },
  {
   "cell_type": "code",
   "execution_count": 79,
   "metadata": {},
   "outputs": [],
   "source": [
    "def get_bounding_circles(image):\n",
    "    \n",
    "    n, centers = get_components(image)\n",
    "    \n",
    "    centers_radius = {}\n",
    "    for key in list(centers.keys()):\n",
    "        arr = np.array(centers[key])\n",
    "        center_x, center_y = np.mean(arr,0)\n",
    "        radius = max((np.max(arr[:,0]) - np.min(arr[:,0]))/2, (np.max(arr[:,1]) - np.min(arr[:,1]))/2)\n",
    "        centers_radius[key] = {\"center_coordinates\" : (int(center_y), int(center_x)), \"radius\": int(radius+2)}\n",
    "    \n",
    "    print(centers_radius)\n",
    "    curr_image = copy.deepcopy(image)\n",
    "    for key in list(centers_radius.keys()):\n",
    "        \n",
    "        color = (255, 0, 0)\n",
    "        \n",
    "        thickness = 2\n",
    "        curr_image = cv2.circle(curr_image, centers_radius[key][\"center_coordinates\"], centers_radius[key][\"radius\"], color, thickness)\n",
    "    \n",
    "    fig = plt.figure(figsize = (10,10))\n",
    "    plt.imshow(curr_image)\n",
    "    plt.show()"
   ]
  },
  {
   "cell_type": "code",
   "execution_count": 80,
   "metadata": {},
   "outputs": [
    {
     "name": "stdout",
     "output_type": "stream",
     "text": [
      "Number of connected components :  9.0\n",
      "{1: {'center_coordinates': (793, 59), 'radius': 55}, 2: {'center_coordinates': (151, 101), 'radius': 93}, 3: {'center_coordinates': (468, 128), 'radius': 90}, 4: {'center_coordinates': (133, 315), 'radius': 87}, 5: {'center_coordinates': (486, 332), 'radius': 91}, 6: {'center_coordinates': (803, 333), 'radius': 142}, 7: {'center_coordinates': (461, 521), 'radius': 96}, 8: {'center_coordinates': (168, 515), 'radius': 114}, 9: {'center_coordinates': (803, 541), 'radius': 122}}\n"
     ]
    },
    {
     "data": {
      "image/png": "[encoded data removed]",
      "text/plain": [
       "<Figure size 720x720 with 1 Axes>"
      ]
     },
     "metadata": {
      "needs_background": "light"
     },
     "output_type": "display_data"
    }
   ],
   "source": [
    "get_bounding_circles(image)"
   ]
  },
  {
   "cell_type": "code",
   "execution_count": null,
   "metadata": {},
   "outputs": [],
   "source": []
  },
  {
   "cell_type": "code",
   "execution_count": null,
   "metadata": {},
   "outputs": [],
   "source": []
  }
 ],
 "metadata": {
  "kernelspec": {
   "display_name": "Python 3",
   "language": "python",
   "name": "python3"
  },
  "language_info": {
   "codemirror_mode": {
    "name": "ipython",
    "version": 3
   },
   "file_extension": ".py",
   "mimetype": "text/x-python",
   "name": "python",
   "nbconvert_exporter": "python",
   "pygments_lexer": "ipython3",
   "version": "3.7.4"
  }
 },
 "nbformat": 4,
 "nbformat_minor": 4
}
